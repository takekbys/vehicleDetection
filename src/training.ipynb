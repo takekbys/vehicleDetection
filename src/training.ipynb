{
 "cells": [
  {
   "cell_type": "code",
   "execution_count": 1,
   "metadata": {},
   "outputs": [],
   "source": [
    "import matplotlib.pyplot as plt\n",
    "import cv2\n",
    "import pandas as pd\n",
    "import glob\n",
    "import os\n",
    "from tqdm import tqdm\n",
    "import pickle\n",
    "import numpy as np\n",
    "import cv2\n",
    "from PIL import Image\n",
    "from numpy.random import rand, randint, ranf, randn\n",
    "import torch\n",
    "import torch.nn as nn\n",
    "import torch.nn.functional as F\n",
    "import torch.optim as optim\n",
    "from torch.optim import lr_scheduler\n",
    "from torch.utils.data import Dataset, DataLoader\n",
    "from torchvision import models, transforms, utils\n",
    "from sklearn.model_selection import train_test_split\n",
    "import numpy.matlib\n",
    "\n",
    "%matplotlib inline"
   ]
  },
  {
   "cell_type": "markdown",
   "metadata": {},
   "source": [
    "# データの読み込み、分割"
   ]
  },
  {
   "cell_type": "code",
   "execution_count": 2,
   "metadata": {},
   "outputs": [
    {
     "data": {
      "text/html": [
       "<div>\n",
       "<style scoped>\n",
       "    .dataframe tbody tr th:only-of-type {\n",
       "        vertical-align: middle;\n",
       "    }\n",
       "\n",
       "    .dataframe tbody tr th {\n",
       "        vertical-align: top;\n",
       "    }\n",
       "\n",
       "    .dataframe thead th {\n",
       "        text-align: right;\n",
       "    }\n",
       "</style>\n",
       "<table border=\"1\" class=\"dataframe\">\n",
       "  <thead>\n",
       "    <tr style=\"text-align: right;\">\n",
       "      <th></th>\n",
       "      <th>img_name</th>\n",
       "      <th>type</th>\n",
       "      <th>truncated</th>\n",
       "      <th>occluded</th>\n",
       "      <th>alpha</th>\n",
       "      <th>left</th>\n",
       "      <th>top</th>\n",
       "      <th>right</th>\n",
       "      <th>bottom</th>\n",
       "      <th>height</th>\n",
       "      <th>width</th>\n",
       "      <th>length</th>\n",
       "      <th>x</th>\n",
       "      <th>y</th>\n",
       "      <th>z</th>\n",
       "      <th>rotation_y</th>\n",
       "    </tr>\n",
       "  </thead>\n",
       "  <tbody>\n",
       "    <tr>\n",
       "      <th>0</th>\n",
       "      <td>004863</td>\n",
       "      <td>Car</td>\n",
       "      <td>0.0</td>\n",
       "      <td>0</td>\n",
       "      <td>-1.55</td>\n",
       "      <td>572.44</td>\n",
       "      <td>181.56</td>\n",
       "      <td>611.95</td>\n",
       "      <td>219.71</td>\n",
       "      <td>1.66</td>\n",
       "      <td>1.73</td>\n",
       "      <td>3.05</td>\n",
       "      <td>-0.82</td>\n",
       "      <td>2.08</td>\n",
       "      <td>33.40</td>\n",
       "      <td>-1.57</td>\n",
       "    </tr>\n",
       "    <tr>\n",
       "      <th>1</th>\n",
       "      <td>004863</td>\n",
       "      <td>Tram</td>\n",
       "      <td>0.0</td>\n",
       "      <td>0</td>\n",
       "      <td>-1.48</td>\n",
       "      <td>498.85</td>\n",
       "      <td>149.49</td>\n",
       "      <td>551.40</td>\n",
       "      <td>204.32</td>\n",
       "      <td>3.62</td>\n",
       "      <td>2.60</td>\n",
       "      <td>15.21</td>\n",
       "      <td>-6.27</td>\n",
       "      <td>2.16</td>\n",
       "      <td>55.58</td>\n",
       "      <td>-1.60</td>\n",
       "    </tr>\n",
       "    <tr>\n",
       "      <th>2</th>\n",
       "      <td>004863</td>\n",
       "      <td>Car</td>\n",
       "      <td>0.0</td>\n",
       "      <td>1</td>\n",
       "      <td>2.12</td>\n",
       "      <td>56.46</td>\n",
       "      <td>195.89</td>\n",
       "      <td>220.78</td>\n",
       "      <td>260.91</td>\n",
       "      <td>1.47</td>\n",
       "      <td>1.71</td>\n",
       "      <td>4.36</td>\n",
       "      <td>-12.68</td>\n",
       "      <td>2.15</td>\n",
       "      <td>19.71</td>\n",
       "      <td>1.55</td>\n",
       "    </tr>\n",
       "    <tr>\n",
       "      <th>3</th>\n",
       "      <td>004863</td>\n",
       "      <td>Car</td>\n",
       "      <td>0.0</td>\n",
       "      <td>0</td>\n",
       "      <td>1.92</td>\n",
       "      <td>321.08</td>\n",
       "      <td>188.65</td>\n",
       "      <td>383.52</td>\n",
       "      <td>221.93</td>\n",
       "      <td>1.52</td>\n",
       "      <td>1.71</td>\n",
       "      <td>3.89</td>\n",
       "      <td>-12.88</td>\n",
       "      <td>2.34</td>\n",
       "      <td>36.20</td>\n",
       "      <td>1.58</td>\n",
       "    </tr>\n",
       "    <tr>\n",
       "      <th>4</th>\n",
       "      <td>004863</td>\n",
       "      <td>DontCare</td>\n",
       "      <td>-1.0</td>\n",
       "      <td>-1</td>\n",
       "      <td>-10.00</td>\n",
       "      <td>280.40</td>\n",
       "      <td>183.35</td>\n",
       "      <td>291.90</td>\n",
       "      <td>212.56</td>\n",
       "      <td>-1.00</td>\n",
       "      <td>-1.00</td>\n",
       "      <td>-1.00</td>\n",
       "      <td>-1000.00</td>\n",
       "      <td>-1000.00</td>\n",
       "      <td>-1000.00</td>\n",
       "      <td>-10.00</td>\n",
       "    </tr>\n",
       "  </tbody>\n",
       "</table>\n",
       "</div>"
      ],
      "text/plain": [
       "  img_name      type  truncated  occluded  alpha    left     top   right  \\\n",
       "0   004863       Car        0.0         0  -1.55  572.44  181.56  611.95   \n",
       "1   004863      Tram        0.0         0  -1.48  498.85  149.49  551.40   \n",
       "2   004863       Car        0.0         1   2.12   56.46  195.89  220.78   \n",
       "3   004863       Car        0.0         0   1.92  321.08  188.65  383.52   \n",
       "4   004863  DontCare       -1.0        -1 -10.00  280.40  183.35  291.90   \n",
       "\n",
       "   bottom  height  width  length        x        y        z  rotation_y  \n",
       "0  219.71    1.66   1.73    3.05    -0.82     2.08    33.40       -1.57  \n",
       "1  204.32    3.62   2.60   15.21    -6.27     2.16    55.58       -1.60  \n",
       "2  260.91    1.47   1.71    4.36   -12.68     2.15    19.71        1.55  \n",
       "3  221.93    1.52   1.71    3.89   -12.88     2.34    36.20        1.58  \n",
       "4  212.56   -1.00  -1.00   -1.00 -1000.00 -1000.00 -1000.00      -10.00  "
      ]
     },
     "execution_count": 2,
     "metadata": {},
     "output_type": "execute_result"
    }
   ],
   "source": [
    "PATH = '../data/training/'\n",
    "ANNOTATIONS = PATH + \"label_2/annotations_list.pkl\"\n",
    "annotations_list = pd.read_pickle(\"../data/training/label_2/annotations_list.pkl\")\n",
    "annotations_list.head()"
   ]
  },
  {
   "cell_type": "code",
   "execution_count": 3,
   "metadata": {
    "tags": []
   },
   "outputs": [
    {
     "name": "stdout",
     "output_type": "stream",
     "text": [
      "train_list has 7106 images.\n",
      "val_list has 375 images.\n"
     ]
    }
   ],
   "source": [
    "img_list = list(annotations_list[\"img_name\"].unique())\n",
    "train_list, val_list = train_test_split(img_list, test_size=0.05, shuffle=True, random_state=0)\n",
    "print(\"train_list has\", len(train_list), \"images.\")\n",
    "print(\"val_list has\", len(val_list), \"images.\")"
   ]
  },
  {
   "cell_type": "markdown",
   "metadata": {},
   "source": [
    "# 学習データの作成"
   ]
  },
  {
   "cell_type": "code",
   "execution_count": 4,
   "metadata": {},
   "outputs": [
    {
     "data": {
      "text/plain": [
       "<matplotlib.image.AxesImage at 0x7fb89a4fcd30>"
      ]
     },
     "execution_count": 4,
     "metadata": {},
     "output_type": "execute_result"
    },
    {
     "data": {
      "image/png": "[encoded data removed]",
      "text/plain": [
       "<Figure size 432x288 with 1 Axes>"
      ]
     },
     "metadata": {
      "needs_background": "light"
     },
     "output_type": "display_data"
    }
   ],
   "source": [
    "def get_heatmap(h, w, h_center, w_center, sigma=2):\n",
    "    w_range = np.arange(0,w)-w_center\n",
    "    w_range = np.matlib.repmat(w_range, h, 1)\n",
    "    h_range = np.arange(0,h)-h_center\n",
    "    h_range = h_range.reshape(h,1)\n",
    "    h_range = np.matlib.repmat(h_range, 1, w)\n",
    "    Yxyc = np.exp(-(w_range**2+h_range**2)/sigma)\n",
    "    return Yxyc.T\n",
    "\n",
    "hm = get_heatmap(10, 20, 5, 10)\n",
    "plt.imshow(hm)"
   ]
  },
  {
   "cell_type": "code",
   "execution_count": 5,
   "metadata": {},
   "outputs": [],
   "source": [
    "def line2P(l):\n",
    "    P_elem = l.split()[1:]\n",
    "    P = np.array(P_elem, dtype=np.float).reshape(3,-1)\n",
    "    return P\n",
    "\n",
    "def readCalib(calib_name, calib_path):\n",
    "    calib_name = calib_path + calib_name + \".txt\"\n",
    "    with open(calib_name) as f:\n",
    "        P0 = line2P(f.readline())\n",
    "        P1 = line2P(f.readline())\n",
    "        P2 = line2P(f.readline())\n",
    "        P3 = line2P(f.readline())\n",
    "        R0_rect = line2P(f.readline())\n",
    "        Tr_velo_to_cam = line2P(f.readline())\n",
    "        Tr_imu_to_velo = line2P(f.readline())\n",
    "    return P0, P1, P2, P3, R0_rect, Tr_velo_to_cam, Tr_imu_to_velo\n",
    "\n",
    "def projectToImage(pts3D, P):\n",
    "    P = np.array(P)\n",
    "    \n",
    "    ones = np.ones([1,pts3D.shape[1]])\n",
    "    pts3D = np.append(pts3D, ones, axis=0)\n",
    "    pts2D = np.dot(P, pts3D)\n",
    "    pts2D[0] /= pts2D[2]\n",
    "    pts2D[1] /= pts2D[2]\n",
    "    pts2D = np.delete(pts2D, obj=2, axis=0)\n",
    "    return pts2D\n",
    "\n",
    "def selectVisibleSurface(corner3D):\n",
    "    # 直方体の8点から、隠れた点を除いて出力する\n",
    "    face_mask = np.array([[1,1,0,0,1,1,0,0], # front\n",
    "                          [0,1,1,0,0,1,1,0], # right\n",
    "                          [0,0,1,1,0,0,1,1], # back\n",
    "                          [1,0,0,1,1,0,0,1]  # left\n",
    "                         ])\n",
    "\n",
    "    # 直方体の中心位置を計算\n",
    "    c_rectangular = np.sum(corner3D, axis=1)/8\n",
    "\n",
    "    # 各面の法線と面からカメラへの直線がなす角度が90度以下であればその面は見える\n",
    "    surface_coord3D = np.zeros([3,4])\n",
    "    visible_flag = np.zeros(4)\n",
    "    for i in range(4):\n",
    "        p_in_plane = corner3D * face_mask[i] # 平面の4つの頂点\n",
    "        c_plane = np.sum(p_in_plane, axis=1)/4 # 平面の中心\n",
    "        normal = c_plane - c_rectangular# 平面の法線ベクトル\n",
    "        c_to_O = -c_plane # 平面の中心からカメラ位置へのベクトル\n",
    "        surface_coord3D[:,i] = c_plane\n",
    "        if np.dot(c_to_O, normal)>0:\n",
    "            visible_flag[i] = 1\n",
    "    return visible_flag==1, surface_coord3D\n",
    "\n",
    "def selectVisiblePoint(corner3D):\n",
    "    # 直方体の8点から、隠れた点を除いて出力する\n",
    "    face_mask = np.array([[1,1,0,0,1,1,0,0], # front\n",
    "                          [0,1,1,0,0,1,1,0], # right\n",
    "                          [0,0,1,1,0,0,1,1], # back\n",
    "                          [1,0,0,1,1,0,0,1]  # left\n",
    "                         ])\n",
    "\n",
    "    # 直方体の中心位置を計算\n",
    "    c_rectangular = np.sum(corner3D, axis=1)/8\n",
    "\n",
    "    # 各面の法線と面からカメラへの直線がなす角度が90度以下であればその面は見える\n",
    "    visible_mask = np.zeros(8)\n",
    "    for i in range(4):\n",
    "        p_in_plane = corner3D * face_mask[i] # 平面の4つの頂点\n",
    "        c_plane = np.sum(p_in_plane, axis=1)/4 # 平面の中心\n",
    "        normal = c_plane - c_rectangular# 平面の法線ベクトル\n",
    "        c_to_O = -c_plane # 平面の中心からカメラ位置へのベクトル\n",
    "        if np.dot(c_to_O, normal)>0:\n",
    "            visible_mask += face_mask[i]\n",
    "    return visible_mask!=0\n",
    "\n",
    "def compute3Dbb(obj, P):\n",
    "    # 直方体の各頂点のxyz座標を計算\n",
    "    face_idx = np.array([[0,1,5,4], # front face\n",
    "                         [1,2,6,5], # right face\n",
    "                         [2,3,7,6], # back face\n",
    "                         [3,0,4,7]]) # left face\n",
    "    ry = obj[\"rotation_y\"]\n",
    "    R = np.array([[ np.cos(ry), 0, np.sin(ry)],\n",
    "                  [          0, 1,          0],\n",
    "                  [-np.sin(ry), 0, np.cos(ry)]],\n",
    "                 dtype=np.float)\n",
    "    l = obj[\"length\"]\n",
    "    w = obj[\"width\"]\n",
    "    h = obj[\"height\"]\n",
    "    corners = np.array([[l/2, l/2, -l/2, -l/2, l/2, l/2, -l/2, -l/2],\n",
    "                        [0,0,0,0,-h,-h,-h,-h],\n",
    "                        [w/2, -w/2, -w/2, w/2, w/2, -w/2, -w/2, w/2]],\n",
    "                       dtype=np.float).reshape(3,-1)\n",
    "    corner3D = np.dot(R,corners)\n",
    "    xyz = np.array([obj[\"x\"], obj[\"y\"], obj[\"z\"]], dtype=np.float).reshape([3,1])\n",
    "    corner3D += xyz\n",
    "    \n",
    "    # 直方体の各頂点が見えているかどうかを判定\n",
    "    visible_corner_flag = selectVisiblePoint(corner3D) # 見える頂点を判定\n",
    "    corner_coord2D = projectToImage(corner3D, P) # 画像座標に変換\n",
    "    \n",
    "    # 直方体の面の座標、面が見えているかどうかを判定\n",
    "    visible_surface_flag, surface_coord3D = selectVisibleSurface(corner3D)\n",
    "    surface_coord2D = projectToImage(surface_coord3D, P)\n",
    "    \n",
    "    if xyz[2]<0.1:\n",
    "        return []\n",
    "    else:\n",
    "        return visible_corner_flag, corner_coord2D, visible_surface_flag, surface_coord2D\n",
    "\n",
    "def getP2(img_name):\n",
    "    calib_path = \"../data/training/calib/\"\n",
    "    _, _, P2, _, _, _, _ = readCalib(img_name, calib_path)\n",
    "    return P2"
   ]
  },
  {
   "cell_type": "code",
   "execution_count": 6,
   "metadata": {},
   "outputs": [],
   "source": [
    "RESIZE_SCALE = 4\n",
    "IMG_WIDTH = 1280 // RESIZE_SCALE\n",
    "IMG_HEIGHT = IMG_WIDTH // 16 * 5 #400\n",
    "MODEL_SCALE = 4\n",
    "\n",
    "def preprocess_image(img, training=False):\n",
    "    #画像サイズを統一\n",
    "    img_shape = img.shape[0]//RESIZE_SCALE, img.shape[1]//RESIZE_SCALE\n",
    "    if training:\n",
    "        off_x = randint(0, IMG_WIDTH-img_shape[1])\n",
    "        off_y = randint(0, IMG_HEIGHT-img_shape[0])\n",
    "    else:\n",
    "        off_x = np.round((IMG_WIDTH-img_shape[1])/2).astype('int')\n",
    "        off_y = np.round((IMG_HEIGHT-img_shape[0])/2).astype('int')\n",
    "    \n",
    "    img_dummy = np.zeros([IMG_HEIGHT, IMG_WIDTH, 3])\n",
    "    resize_img = cv2.resize(img, (img_shape[1], img_shape[0]))\n",
    "    img_dummy[off_y:off_y+img_shape[0], off_x:off_x+img_shape[1]] = resize_img\n",
    "    return (img_dummy / 255).astype('float32'), (off_x, off_y)\n",
    "\n",
    "def get_mask_and_regr(img_name, annotations_list, offset=(0,0)):\n",
    "    \n",
    "    ## mask data\n",
    "    # idx 0 : vehicle\n",
    "    # idx 1 : front and rear side\n",
    "    # idx 2 : right and left side\n",
    "    # idx 3 : 3D corner\n",
    "    mask = np.zeros([IMG_HEIGHT // MODEL_SCALE, IMG_WIDTH // MODEL_SCALE, 4], dtype='float32')\n",
    "    ## size of the vehicle : width, height\n",
    "    regr_size = np.zeros([IMG_HEIGHT // MODEL_SCALE, IMG_WIDTH // MODEL_SCALE, 2], dtype='float32')\n",
    "    ## offset for 3D detection\n",
    "    # idx 0,6 : offset from vehicle center to front or rear surface | x, y\n",
    "    # idx 1,7 : offset from vehicle center to right or left surface | x, y\n",
    "    # idx 2~5,8~11 : offset from surface(front, rear , right, or left) to each 3D corner\n",
    "    #                                                               | rb_x, lb_x, lt_x, rt_x, ..., rt_y\n",
    "    regr_3D = np.zeros([IMG_HEIGHT // MODEL_SCALE, IMG_WIDTH // MODEL_SCALE, 12], dtype='float32')\n",
    "    \n",
    "    annotations = annotations_list[annotations_list[\"img_name\"]==img_name]\n",
    "\n",
    "    P2 = getP2(img_name)\n",
    "    \n",
    "    target_type = ['Car', 'Van', 'Truck']\n",
    "\n",
    "    # annotationを遠い順に並び替え\n",
    "    annos = []\n",
    "    for _, anno in annotations.iterrows():\n",
    "        annos.append(anno)\n",
    "    annos_sorted = sorted(annos, key=lambda x:x['z'], reverse=True)\n",
    "    \n",
    "    for anno in annos_sorted:\n",
    "        if anno[\"type\"] in target_type:\n",
    "            ## center pointの学習データを作成 \n",
    "            # annotationをx, y, width, heightに変換\n",
    "            x = (anno[\"left\"]+anno[\"right\"])/2 / MODEL_SCALE\n",
    "            y = (anno[\"top\"]+anno[\"bottom\"])/2 / MODEL_SCALE\n",
    "            width = (anno[\"right\"]-anno[\"left\"]) / MODEL_SCALE\n",
    "            height = (anno[\"bottom\"]-anno[\"top\"]) / MODEL_SCALE\n",
    "            \n",
    "            x = x / RESIZE_SCALE\n",
    "            y = y / RESIZE_SCALE\n",
    "            \n",
    "            x = x+offset[0]/ MODEL_SCALE\n",
    "            y = y+offset[1]/ MODEL_SCALE\n",
    "            \n",
    "            width = width / RESIZE_SCALE\n",
    "            height = height / RESIZE_SCALE\n",
    "\n",
    "            ## corner, surfaceの座標を計算\n",
    "            try: # 前後距離が小さいものは無視\n",
    "                vsbl_cnr_flg, cnr, vsbl_sfc_flg, sfc = compute3Dbb(anno, P2)\n",
    "            except:\n",
    "                continue\n",
    "            cnr[0] = (cnr[0]/RESIZE_SCALE + offset[0])/MODEL_SCALE\n",
    "            cnr[1] = (cnr[1]/RESIZE_SCALE + offset[1])/MODEL_SCALE\n",
    "            sfc[0] = (sfc[0]/RESIZE_SCALE + offset[0])/MODEL_SCALE\n",
    "            sfc[1] = (sfc[1]/RESIZE_SCALE + offset[1])/MODEL_SCALE\n",
    "            \n",
    "            w = max(width,1)\n",
    "            h = max(height,1)\n",
    "            left = np.round(max(min(x-w/2,np.min(cnr[0])),0)).astype('int')\n",
    "            top = np.round(max(min(y-h/2,np.min(cnr[1])),0)).astype('int')\n",
    "            right = np.round(min(max(x+w/2,np.max(cnr[0])),IMG_WIDTH // MODEL_SCALE)).astype('int')\n",
    "            bottom = np.round(min(max(y+h/2,np.max(cnr[1])),IMG_HEIGHT // MODEL_SCALE)).astype('int')\n",
    "            hm = get_heatmap(right-left, bottom-top, w/2, h/2)\n",
    "            \n",
    "            # 隠れている車両の正解データを消去(maskのみ)\n",
    "            pts = cv2.convexHull(np.round(cnr).T.astype(np.int32))\n",
    "            cv2.fillConvexPoly(mask, points=pts, color=0)\n",
    "\n",
    "            # x, y, width, heightからmask, regrを作成\n",
    "            mask[top:bottom, left:right, 0] = hm\n",
    "            regr_size[top:bottom, left:right, 0] = width\n",
    "            regr_size[top:bottom, left:right, 1] = height\n",
    "            \n",
    "            # cregressionデータの初期化\n",
    "            nums = np.arange(0,right-left,1)\n",
    "            nums = np.tile(nums,6).reshape(6,right-left).T\n",
    "            nums = np.tile(nums,(bottom-top,1)).reshape(bottom-top,right-left,6)\n",
    "            regr_3D[top:bottom, left:right,:6] = nums\n",
    "            nums = np.arange(0,bottom-top,1)\n",
    "            nums = np.tile(nums,6).reshape(6,bottom-top).T\n",
    "            nums = np.tile(nums,right-left).reshape(bottom-top,right-left,6)\n",
    "            regr_3D[top:bottom, left:right,6:] = nums\n",
    "            \n",
    "            # \n",
    "            face_idx = np.array([[0,1,5,4], # front face\n",
    "                                 [1,2,6,5], # right face\n",
    "                                 [2,3,7,6], # back face\n",
    "                                 [3,0,4,7]]) # left face\n",
    "            ## front, rear\n",
    "            mask_FaR = np.zeros([IMG_HEIGHT // MODEL_SCALE, IMG_WIDTH // MODEL_SCALE], dtype='float32')\n",
    "            for i in range(0,5,2):\n",
    "                if i < 4 and vsbl_sfc_flg[i]==1:\n",
    "                    # front, rear中心へのregressionを設定\n",
    "                    regr_3D[top:bottom, left:right,0] -= (sfc[0,i]-left) # xベクトル\n",
    "                    regr_3D[top:bottom, left:right,6] -= (sfc[1,i]-top) # yベクトル\n",
    "                    \n",
    "                    # front, rear中心から側面の4点へのregressionを設定\n",
    "                    sfc_cnr = cnr[:,face_idx[i]] # 側面の四角形の座標\n",
    "                    mask_FaR = np.zeros([IMG_HEIGHT // MODEL_SCALE, IMG_WIDTH // MODEL_SCALE], dtype='float32')\n",
    "                    cv2.fillConvexPoly(mask_FaR, points=np.round(sfc_cnr).T.astype(np.int32), color=1)\n",
    "                    # regressionのoffsetを計算\n",
    "                    for j in range(4):\n",
    "                        regr_3D[:,:,j+2] -= (sfc_cnr[0,j]-left) * mask_FaR\n",
    "                        regr_3D[:,:,j+2+6] -= (sfc_cnr[1,j]-top) * mask_FaR\n",
    "                    break\n",
    "                elif i==4:\n",
    "                    # frontもrearも見えていなかったら\n",
    "                    regr_3D[top:bottom, left:right,0] = 0 # xベクトル\n",
    "                    regr_3D[top:bottom, left:right,6] = 0 # yベクトル\n",
    "            # right, left\n",
    "            for i in range(1,6,2):\n",
    "                if i < 5 and vsbl_sfc_flg[i]==1:\n",
    "                    regr_3D[top:bottom, left:right,1] -= (sfc[0,i]-left) # xベクトル\n",
    "                    regr_3D[top:bottom, left:right,7] -= (sfc[1,i]-top) # yベクトル\n",
    "                    \n",
    "                    # right, left中心から側面の4点へのregressionを設定\n",
    "                    sfc_cnr = cnr[:,face_idx[i]] # 側面の四角形の座標\n",
    "                    mask_RaL = np.zeros([IMG_HEIGHT // MODEL_SCALE, IMG_WIDTH // MODEL_SCALE], dtype='float32')\n",
    "                    cv2.fillConvexPoly(mask_RaL, points=np.round(sfc_cnr).T.astype(np.int32), color=1)\n",
    "                    mask_RaL = mask_RaL * (1-mask_FaR)\n",
    "                    # regressionのoffsetを計算\n",
    "                    for j in range(4):\n",
    "                        regr_3D[:,:,j+2] -= (sfc_cnr[0,j]-left) * mask_RaL\n",
    "                        regr_3D[:,:,j+2+6] -= (sfc_cnr[1,j]-top) * mask_RaL\n",
    "                    break\n",
    "                elif i==5:\n",
    "                    # rightもleftも見えていなかったら\n",
    "                    regr_3D[top:bottom, left:right,1] = 0 # xベクトル\n",
    "                    regr_3D[top:bottom, left:right,7] = 0 # yベクトル\n",
    "\n",
    "            # cornerのmaskを作成\n",
    "            cnr = cnr[:,vsbl_cnr_flg]\n",
    "            cnr = np.round(cnr).astype('int')\n",
    "            if w > 3:\n",
    "                for i in range(cnr.shape[1]):\n",
    "                    if 0 <= cnr[1,i] and cnr[1,i] < mask.shape[0] and\\\n",
    "                       0 <= cnr[0,i] and cnr[0,i] < mask.shape[1]:\n",
    "                        # 画像外だったら何もしない\n",
    "                        mask[cnr[1,i],cnr[0,i],3] = 1\n",
    "            # surfaceのmaskを作成\n",
    "            sfc = np.round(sfc).astype('int')\n",
    "            if w > 3:\n",
    "                for i in range(4):\n",
    "                    if 0 <= sfc[1,i] and sfc[1,i] < mask.shape[0] and \\\n",
    "                       0 <= sfc[0,i] and sfc[0,i] < mask.shape[1] and \\\n",
    "                       vsbl_sfc_flg[i]==1:\n",
    "                        # 画像外だったら何もしない\n",
    "                        if i%2==0: # 前後面のmaskを設定\n",
    "                            mask[sfc[1,i],sfc[0,i],1] = 1\n",
    "                        elif mask_FaR[sfc[1,i],sfc[0,i]]==0: # 左右面のregressionが上書きされていたらmaskを設定しない\n",
    "                            mask[sfc[1,i],sfc[0,i],2] = 1\n",
    "    return mask, regr_size, regr_3D"
   ]
  },
  {
   "cell_type": "code",
   "execution_count": 7,
   "metadata": {
    "tags": []
   },
   "outputs": [],
   "source": [
    "def get_img_path(img_name_list):\n",
    "    for i in range(len(img_name_list)):\n",
    "        img_name_list[i] = PATH + \"image_2/\" + img_name_list[i] + \".png\"\n",
    "        return img_name_list"
   ]
  },
  {
   "cell_type": "code",
   "execution_count": 8,
   "metadata": {
    "tags": []
   },
   "outputs": [],
   "source": [
    "img_name = train_list[8]\n",
    "img_name_list = get_img_path([img_name])\n",
    "img = plt.imread(img_name_list[0])\n",
    "img, offset = preprocess_image(img)\n",
    "mask, regr_size, regr_3D = get_mask_and_regr(img_name, annotations_list, offset)"
   ]
  },
  {
   "cell_type": "markdown",
   "metadata": {},
   "source": [
    "# 学習データ生成のためのclassを定義"
   ]
  },
  {
   "cell_type": "code",
   "execution_count": 9,
   "metadata": {},
   "outputs": [],
   "source": [
    "class CarDataset(Dataset):\n",
    "    \"\"\"Car dataset.\"\"\"\n",
    "\n",
    "    def __init__(self, data_list, annotation, root_dir, training=True):\n",
    "        self.data_list = data_list\n",
    "        self.anno = annotation\n",
    "        self.root_dir = root_dir\n",
    "        self.training = training\n",
    "        \n",
    "        self.anno = pd.read_pickle(ANNOTATIONS)\n",
    "        \n",
    "    def __len__(self):\n",
    "        return len(self.data_list)\n",
    "\n",
    "    def __getitem__(self, idx):\n",
    "        # Get data\n",
    "        img_name = self.data_list[idx]\n",
    "        img_path = self.root_dir + \"image_2/\" + img_name + \".png\"\n",
    "        img = plt.imread(img_path)\n",
    "        img, offset = preprocess_image(img, self.training)\n",
    "        \n",
    "        if self.training:\n",
    "            mask, regr_size, regr_3D = get_mask_and_regr(img_name, self.anno, offset)\n",
    "            # Augmentation\n",
    "            fliplr = rand()>.5\n",
    "            if fliplr:\n",
    "                img, mask, regr_size, regr_3D = img[:,::-1], mask[:,::-1], regr_size[:,::-1], regr_3D[:,::-1]\n",
    "                regr_3D[:,:,0:6] *= -1\n",
    "                regr_3D = regr_3D[:,:,[0,1,3,2,5,4,6,7,9,8,11,10]] # corner regressionを左下から時計回りに修正\n",
    "            fliptb = rand()>.5\n",
    "            if fliptb and False:\n",
    "                img, mask, regr_size, regr_3D = img[::-1], mask[::-1], regr_size[::-1], regr_3D[::-1]\n",
    "                regr_3D[:,:,6:] *= -1\n",
    "                regr_3D = regr_3D[:,:,[0,1,5,4,3,2,6,7,11,10,9,8]] # corner regressionを左下から時計回りに修正\n",
    "            \n",
    "            # 配列の向き？を入れ替える\n",
    "            mask = np.rollaxis(mask, 2, 0)\n",
    "            regr_size = np.rollaxis(regr_size, 2, 0)\n",
    "            regr_3D = np.rollaxis(regr_3D, 2, 0)\n",
    "        img = np.rollaxis(img, 2, 0)\n",
    "            \n",
    "        if self.training:\n",
    "            return [img.copy(), mask.copy(), regr_size.copy(), regr_3D.copy()]\n",
    "        else:\n",
    "            return img"
   ]
  },
  {
   "cell_type": "code",
   "execution_count": 10,
   "metadata": {},
   "outputs": [],
   "source": [
    "train_dataset = CarDataset(train_list, annotations_list, PATH, training=True)\n",
    "val_dataset = CarDataset(val_list, annotations_list, PATH, training=True)"
   ]
  },
  {
   "cell_type": "code",
   "execution_count": 11,
   "metadata": {},
   "outputs": [],
   "source": [
    "BATCH_SIZE = 16\n",
    "\n",
    "# Create data generators - they will produce batches\n",
    "train_loader = DataLoader(dataset=train_dataset, batch_size=BATCH_SIZE, shuffle=True, num_workers=4)\n",
    "val_loader = DataLoader(dataset=val_dataset, batch_size=BATCH_SIZE, shuffle=False, num_workers=4)"
   ]
  },
  {
   "cell_type": "markdown",
   "metadata": {},
   "source": [
    "# DL Model"
   ]
  },
  {
   "cell_type": "code",
   "execution_count": 12,
   "metadata": {},
   "outputs": [],
   "source": [
    "from efficientnet_pytorch import EfficientNet"
   ]
  },
  {
   "cell_type": "code",
   "execution_count": 13,
   "metadata": {},
   "outputs": [],
   "source": [
    "class double_conv(nn.Module):\n",
    "    '''(conv => BN => ReLU) * 2'''\n",
    "    def __init__(self, in_ch, out_ch):\n",
    "        super(double_conv, self).__init__()\n",
    "        self.conv = nn.Sequential(\n",
    "            nn.Conv2d(in_ch, out_ch, 3, padding=1),\n",
    "            nn.BatchNorm2d(out_ch),\n",
    "            nn.ReLU(inplace=True),\n",
    "            nn.Conv2d(out_ch, out_ch, 3, padding=1),\n",
    "            nn.BatchNorm2d(out_ch),\n",
    "            nn.ReLU(inplace=True)\n",
    "        )\n",
    "\n",
    "    def forward(self, x):\n",
    "        x = self.conv(x)\n",
    "        return x\n",
    "\n",
    "class up(nn.Module):\n",
    "    def __init__(self, in_ch, out_ch, bilinear=True):\n",
    "        super(up, self).__init__()\n",
    "\n",
    "        #  would be a nice idea if the upsampling could be learned too,\n",
    "        #  but my machine do not have enough memory to handle all those weights\n",
    "        if bilinear:\n",
    "            self.up = nn.Upsample(scale_factor=2, mode='bilinear', align_corners=True)\n",
    "        else:\n",
    "            self.up = nn.ConvTranspose2d(in_ch//2, in_ch//2, 2, stride=2)\n",
    "\n",
    "        self.conv = double_conv(in_ch, out_ch)\n",
    "\n",
    "    def forward(self, x1, x2=None):\n",
    "        x1 = self.up(x1)\n",
    "        \n",
    "        # input is CHW\n",
    "        diffY = x2.size()[2] - x1.size()[2]\n",
    "        diffX = x2.size()[3] - x1.size()[3]\n",
    "\n",
    "        x1 = F.pad(x1, (diffX // 2, diffX - diffX//2,\n",
    "                        diffY // 2, diffY - diffY//2))\n",
    "        \n",
    "        # for padding issues, see \n",
    "        # https://github.com/HaiyongJiang/U-Net-Pytorch-Unstructured-Buggy/commit/0e854509c2cea854e247a9c615f175f76fbb2e3a\n",
    "        # https://github.com/xiaopeng-liao/Pytorch-UNet/commit/8ebac70e633bac59fc22bb5195e513d5832fb3bd\n",
    "        \n",
    "        if x2 is not None:\n",
    "            x = torch.cat([x2, x1], dim=1)\n",
    "        else:\n",
    "            x = x1\n",
    "        x = self.conv(x)\n",
    "        return x\n",
    "\n",
    "def get_mesh(batch_size, shape_x, shape_y):\n",
    "    mg_x, mg_y = np.meshgrid(np.linspace(0, 1, shape_y), np.linspace(0, 1, shape_x))\n",
    "    mg_x = np.tile(mg_x[None, None, :, :], [batch_size, 1, 1, 1]).astype('float32')\n",
    "    mg_y = np.tile(mg_y[None, None, :, :], [batch_size, 1, 1, 1]).astype('float32')\n",
    "    mesh = torch.cat([torch.tensor(mg_x).to(device), torch.tensor(mg_y).to(device)], 1)\n",
    "    return mesh"
   ]
  },
  {
   "cell_type": "code",
   "execution_count": 14,
   "metadata": {},
   "outputs": [],
   "source": [
    "class EfficientNet_(EfficientNet):\n",
    "    \n",
    "    def extract_features_midconv(self, inputs):\n",
    "        out = []\n",
    "        \n",
    "        x = self._swish(self._bn0(self._conv_stem(inputs)))\n",
    "        \n",
    "        for idx, block in enumerate(self._blocks):\n",
    "            drop_connect_rate = self._global_params.drop_connect_rate\n",
    "            if drop_connect_rate:\n",
    "                drop_connect_rate *= float(idx) / len(self._blocks)\n",
    "            y = block(x, drop_connect_rate=drop_connect_rate)\n",
    "            if y.size()[-1] != x.size()[-1]:\n",
    "                out.append(x)\n",
    "            x = y\n",
    "            \n",
    "        x = self._swish(self._bn1(self._conv_head(x)))\n",
    "        out.append(x)\n",
    "        \n",
    "        return out[1:]"
   ]
  },
  {
   "cell_type": "code",
   "execution_count": 15,
   "metadata": {},
   "outputs": [],
   "source": [
    "class MyUNet(nn.Module):\n",
    "    '''Mixture of previous classes'''\n",
    "    def __init__(self, n_classes):\n",
    "        super(MyUNet, self).__init__()\n",
    "        self.base_model = EfficientNet_.from_pretrained('efficientnet-b0')\n",
    "        \n",
    "        self.mp = nn.MaxPool2d(2)\n",
    "        \n",
    "        self.up1 = up(1282 + 112, 256)\n",
    "        self.up2 = up(256 + 40, 128)\n",
    "        self.up3 = up(128 + 24, 64)\n",
    "        self.outc = nn.Conv2d(64, n_classes, 1)\n",
    "\n",
    "    def forward(self, x):\n",
    "        batch_size = x.shape[0]\n",
    "        \n",
    "        x2, x3, x4, x5 = self.base_model.extract_features_midconv(x)\n",
    "        \n",
    "        # Add positional info\n",
    "        mesh2 = get_mesh(batch_size, x5.shape[2], x5.shape[3])\n",
    "        x5 = torch.cat([x5, mesh2], 1)\n",
    "        \n",
    "        x = self.up1(x5, x4)\n",
    "        x = self.up2(x, x3)\n",
    "        x = self.up3(x, x2)\n",
    "        x = self.outc(x)\n",
    "        return x"
   ]
  },
  {
   "cell_type": "code",
   "execution_count": 16,
   "metadata": {
    "tags": []
   },
   "outputs": [
    {
     "name": "stdout",
     "output_type": "stream",
     "text": [
      "cpu\n",
      "Loaded pretrained weights for efficientnet-b0\n"
     ]
    }
   ],
   "source": [
    "# Gets the GPU if there is one, otherwise the cpu\n",
    "device = torch.device(\"cuda\" if torch.cuda.is_available() else \"cpu\")\n",
    "print(device)\n",
    "\n",
    "n_epochs = 50\n",
    "\n",
    "## MyUNetの出力ベクトル長を設定\n",
    "model = MyUNet(18).to(device)\n",
    "optimizer = optim.Adam(model.parameters(), lr=0.1)\n",
    "scheduler = lr_scheduler.ReduceLROnPlateau(optimizer,\n",
    "                              mode='min',\n",
    "                              factor=0.1,\n",
    "                              patience=1,\n",
    "                              verbose=True\n",
    "                             )"
   ]
  },
  {
   "cell_type": "markdown",
   "metadata": {},
   "source": [
    "# Training"
   ]
  },
  {
   "cell_type": "code",
   "execution_count": 17,
   "metadata": {},
   "outputs": [],
   "source": [
    "lambda_size = 0.01\n",
    "lambda_3D = 0.1\n",
    "\n",
    "def criterion(prediction, mask, regr_size, regr_3D):\n",
    "    # Binary mask loss\n",
    "    pred_mask = torch.sigmoid(prediction[:, 0:4])\n",
    "    mask_loss = mask * torch.log(pred_mask + 1e-12) + (1 - mask) * torch.log(1 - pred_mask + 1e-12)\n",
    "    mask_loss = -mask_loss.mean(0).sum()\n",
    "    \n",
    "    # Regression size loss\n",
    "    pred_regr = prediction[:, 4:6]\n",
    "    size_loss = (torch.abs(pred_regr - regr_size).sum(1) * mask[:,0]).sum(1).sum(1)# / (mask.sum(1).sum(1) + 1)\n",
    "    size_loss = size_loss.mean(0)\n",
    "    \n",
    "    # Regression 3D loss\n",
    "    pred_regr = prediction[:,[6,7,12,13]]\n",
    "    regr = regr_3D[:,[0,1,6,7]]\n",
    "    sfc_loss = (torch.abs(pred_regr - regr).sum(1) * mask[:,0]).sum(1).sum(1)# / (mask.sum(1).sum(1) + 1)\n",
    "    sfc_loss = sfc_loss.mean(0)\n",
    "    pred_regr = prediction[:,[8,9,10,11,14,15,16,17]]\n",
    "    regr = regr_3D[:,[2,3,4,5,8,9,10,11]]\n",
    "    cnr_loss = (torch.abs(pred_regr - regr).sum(1) * (mask[:,1]+mask[:,2])).sum(1).sum(1)# / (mask.sum(1).sum(1) + 1)\n",
    "    cnr_loss = cnr_loss.mean(0)\n",
    "    \n",
    "    return mask_loss, lambda_size*size_loss, lambda_3D*(sfc_loss+cnr_loss)"
   ]
  },
  {
   "cell_type": "code",
   "execution_count": 18,
   "metadata": {},
   "outputs": [],
   "source": [
    "FINE_TUNE_EPOCH = 35\n",
    "\n",
    "def train_model(epoch, history=None):\n",
    "    model.train()\n",
    "    train_mask_loss = 0\n",
    "    train_regr_size_loss = 0\n",
    "    train_regr_3D_loss = 0\n",
    "    \n",
    "    for batch_idx, (img_batch, mask_batch, regr_size_batch, regr_3D_batch) in enumerate(tqdm(train_loader)):\n",
    "            \n",
    "        img_batch = img_batch.to(device)\n",
    "        mask_batch = mask_batch.to(device)\n",
    "        regr_size_batch = regr_size_batch.to(device)\n",
    "        regr_3D_batch = regr_3D_batch.to(device)\n",
    "        \n",
    "        optimizer.zero_grad()\n",
    "        output = model(img_batch)\n",
    "        mask_loss, regr_size_loss, regr_3D_loss =\\\n",
    "            criterion(output, mask_batch, regr_size_batch, regr_3D_batch)\n",
    "        loss = mask_loss + regr_size_loss + regr_3D_loss\n",
    "        loss.backward()\n",
    "        optimizer.step()\n",
    "            \n",
    "        train_mask_loss += mask_loss.detach()\n",
    "        train_regr_size_loss += regr_size_loss.detach()\n",
    "        train_regr_3D_loss += regr_3D_loss.detach()\n",
    "    \n",
    "    train_mask_loss /= len(train_dataset)\n",
    "    train_regr_size_loss /= len(train_dataset)\n",
    "    train_regr_3D_loss /= len(train_dataset)\n",
    "    train_loss = train_mask_loss + train_regr_size_loss + train_regr_3D_loss\n",
    "    \n",
    "    if history is not None:\n",
    "        history.loc[epoch, 'train_mask_loss'] = train_mask_loss.data.cpu().numpy()\n",
    "        history.loc[epoch, 'train_regr_size_loss'] = train_regr_size_loss.data.cpu().numpy()\n",
    "        history.loc[epoch, 'train_regr_3D_loss'] = train_regr_3D_loss.data.cpu().numpy()\n",
    "        history.loc[epoch, 'train_loss'] = train_loss.data.cpu().numpy()\n",
    "        \n",
    "    print('Train Epoch: {} \\tLR: {:.6f}\\tLoss: {:.6f}'.format(\n",
    "        epoch,\n",
    "        optimizer.state_dict()['param_groups'][0]['lr'],\n",
    "        train_loss))\n",
    "\n",
    "def evaluate_model(epoch, history=None):\n",
    "    model.eval()\n",
    "    val_mask_loss = 0\n",
    "    val_regr_size_loss = 0\n",
    "    val_regr_3D_loss = 0\n",
    "    \n",
    "    with torch.no_grad():\n",
    "        for img_batch, mask_batch, regr_size_batch, regr_3D_batch in val_loader:\n",
    "            img_batch = img_batch.to(device)\n",
    "            mask_batch = mask_batch.to(device)\n",
    "            regr_size_batch = regr_size_batch.to(device)\n",
    "            regr_3D_batch = regr_3D_batch.to(device)\n",
    "\n",
    "            output = model(img_batch)\n",
    "\n",
    "            mask_loss, regr_size_loss, regr_3D_loss =\\\n",
    "                criterion(output, mask_batch, regr_size_batch, regr_3D_batch)\n",
    "                    \n",
    "            val_mask_loss += mask_loss.detach()\n",
    "            val_regr_size_loss += regr_size_loss.detach()\n",
    "            val_regr_3D_loss += regr_3D_loss.detach()\n",
    "    \n",
    "    val_mask_loss /= len(val_dataset)\n",
    "    val_regr_size_loss /= len(val_dataset)\n",
    "    val_regr_3D_loss /= len(val_dataset)\n",
    "    val_loss = val_mask_loss + val_regr_size_loss + val_regr_3D_loss\n",
    "    \n",
    "    if history is not None:\n",
    "        history.loc[epoch, 'val_mask_loss'] = val_mask_loss.data.cpu().numpy()\n",
    "        history.loc[epoch, 'val_regr_size_loss'] = val_regr_size_loss.data.cpu().numpy()\n",
    "        history.loc[epoch, 'val_regr_3D_loss'] = val_regr_3D_loss.data.cpu().numpy()\n",
    "        history.loc[epoch, 'val_loss'] = val_loss.data.cpu().numpy()\n",
    "    \n",
    "    print('Val loss: {:.4f}'.format(val_loss))\n",
    "    \n",
    "    scheduler.step(val_loss)"
   ]
  },
  {
   "cell_type": "code",
   "execution_count": 19,
   "metadata": {
    "scrolled": false,
    "tags": []
   },
   "outputs": [
    {
     "name": "stderr",
     "output_type": "stream",
     "text": [
      "\r",
      "  0%|          | 0/445 [00:00<?, ?it/s]"
     ]
    },
    {
     "name": "stdout",
     "output_type": "stream",
     "text": [
      "Base model parameters are FREEZED.\n"
     ]
    },
    {
     "name": "stderr",
     "output_type": "stream",
     "text": [
      "100%|██████████| 445/445 [08:26<00:00,  1.14s/it]\n"
     ]
    },
    {
     "name": "stdout",
     "output_type": "stream",
     "text": [
      "Train Epoch: 0 \tLR: 0.100000\tLoss: 11.113677\n",
      "Val loss: 49.2489\n"
     ]
    },
    {
     "name": "stderr",
     "output_type": "stream",
     "text": [
      "100%|██████████| 445/445 [08:20<00:00,  1.12s/it]"
     ]
    },
    {
     "name": "stdout",
     "output_type": "stream",
     "text": [
      "Train Epoch: 1 \tLR: 0.100000\tLoss: 8.682487\n"
     ]
    },
    {
     "name": "stderr",
     "output_type": "stream",
     "text": [
      "\n"
     ]
    },
    {
     "name": "stdout",
     "output_type": "stream",
     "text": [
      "Val loss: 8.8727\n"
     ]
    },
    {
     "name": "stderr",
     "output_type": "stream",
     "text": [
      "100%|██████████| 445/445 [08:26<00:00,  1.14s/it]"
     ]
    },
    {
     "name": "stdout",
     "output_type": "stream",
     "text": [
      "Train Epoch: 2 \tLR: 0.100000\tLoss: 8.110178\n"
     ]
    },
    {
     "name": "stderr",
     "output_type": "stream",
     "text": [
      "\n"
     ]
    },
    {
     "name": "stdout",
     "output_type": "stream",
     "text": [
      "Val loss: 7.3027\n"
     ]
    },
    {
     "name": "stderr",
     "output_type": "stream",
     "text": [
      "100%|██████████| 445/445 [08:17<00:00,  1.12s/it]"
     ]
    },
    {
     "name": "stdout",
     "output_type": "stream",
     "text": [
      "Train Epoch: 3 \tLR: 0.100000\tLoss: 7.819742\n"
     ]
    },
    {
     "name": "stderr",
     "output_type": "stream",
     "text": [
      "\n"
     ]
    },
    {
     "name": "stdout",
     "output_type": "stream",
     "text": [
      "Val loss: 6.9497\n"
     ]
    },
    {
     "name": "stderr",
     "output_type": "stream",
     "text": [
      "100%|██████████| 445/445 [08:42<00:00,  1.17s/it]"
     ]
    },
    {
     "name": "stdout",
     "output_type": "stream",
     "text": [
      "Train Epoch: 4 \tLR: 0.100000\tLoss: 7.537059\n"
     ]
    },
    {
     "name": "stderr",
     "output_type": "stream",
     "text": [
      "\n"
     ]
    },
    {
     "name": "stdout",
     "output_type": "stream",
     "text": [
      "Val loss: 6.8642\n"
     ]
    },
    {
     "name": "stderr",
     "output_type": "stream",
     "text": [
      "100%|██████████| 445/445 [08:46<00:00,  1.18s/it]"
     ]
    },
    {
     "name": "stdout",
     "output_type": "stream",
     "text": [
      "Train Epoch: 5 \tLR: 0.100000\tLoss: 7.383341\n"
     ]
    },
    {
     "name": "stderr",
     "output_type": "stream",
     "text": [
      "\n"
     ]
    },
    {
     "name": "stdout",
     "output_type": "stream",
     "text": [
      "Val loss: 6.9381\n"
     ]
    },
    {
     "name": "stderr",
     "output_type": "stream",
     "text": [
      "100%|██████████| 445/445 [09:43<00:00,  1.31s/it]"
     ]
    },
    {
     "name": "stdout",
     "output_type": "stream",
     "text": [
      "Train Epoch: 6 \tLR: 0.100000\tLoss: 7.236883\n"
     ]
    },
    {
     "name": "stderr",
     "output_type": "stream",
     "text": [
      "\n"
     ]
    },
    {
     "name": "stdout",
     "output_type": "stream",
     "text": [
      "Val loss: 6.5494\n"
     ]
    },
    {
     "name": "stderr",
     "output_type": "stream",
     "text": [
      "100%|██████████| 445/445 [09:39<00:00,  1.30s/it]"
     ]
    },
    {
     "name": "stdout",
     "output_type": "stream",
     "text": [
      "Train Epoch: 7 \tLR: 0.100000\tLoss: 7.105668\n"
     ]
    },
    {
     "name": "stderr",
     "output_type": "stream",
     "text": [
      "\n"
     ]
    },
    {
     "name": "stdout",
     "output_type": "stream",
     "text": [
      "Val loss: 6.4724\n"
     ]
    },
    {
     "name": "stderr",
     "output_type": "stream",
     "text": [
      "100%|██████████| 445/445 [09:37<00:00,  1.30s/it]"
     ]
    },
    {
     "name": "stdout",
     "output_type": "stream",
     "text": [
      "Train Epoch: 8 \tLR: 0.100000\tLoss: 6.995458\n"
     ]
    },
    {
     "name": "stderr",
     "output_type": "stream",
     "text": [
      "\n"
     ]
    },
    {
     "name": "stdout",
     "output_type": "stream",
     "text": [
      "Val loss: 6.3813\n"
     ]
    },
    {
     "name": "stderr",
     "output_type": "stream",
     "text": [
      "100%|██████████| 445/445 [09:35<00:00,  1.29s/it]"
     ]
    },
    {
     "name": "stdout",
     "output_type": "stream",
     "text": [
      "Train Epoch: 9 \tLR: 0.100000\tLoss: 6.918099\n"
     ]
    },
    {
     "name": "stderr",
     "output_type": "stream",
     "text": [
      "\n"
     ]
    },
    {
     "name": "stdout",
     "output_type": "stream",
     "text": [
      "Val loss: 6.2790\n"
     ]
    },
    {
     "name": "stderr",
     "output_type": "stream",
     "text": [
      "100%|██████████| 445/445 [09:21<00:00,  1.26s/it]"
     ]
    },
    {
     "name": "stdout",
     "output_type": "stream",
     "text": [
      "Train Epoch: 10 \tLR: 0.100000\tLoss: 6.819230\n"
     ]
    },
    {
     "name": "stderr",
     "output_type": "stream",
     "text": [
      "\n"
     ]
    },
    {
     "name": "stdout",
     "output_type": "stream",
     "text": [
      "Val loss: 6.0957\n"
     ]
    },
    {
     "name": "stderr",
     "output_type": "stream",
     "text": [
      "100%|██████████| 445/445 [09:09<00:00,  1.23s/it]"
     ]
    },
    {
     "name": "stdout",
     "output_type": "stream",
     "text": [
      "Train Epoch: 11 \tLR: 0.100000\tLoss: 6.748757\n"
     ]
    },
    {
     "name": "stderr",
     "output_type": "stream",
     "text": [
      "\n"
     ]
    },
    {
     "name": "stdout",
     "output_type": "stream",
     "text": [
      "Val loss: 6.1216\n"
     ]
    },
    {
     "name": "stderr",
     "output_type": "stream",
     "text": [
      "100%|██████████| 445/445 [09:11<00:00,  1.24s/it]"
     ]
    },
    {
     "name": "stdout",
     "output_type": "stream",
     "text": [
      "Train Epoch: 12 \tLR: 0.100000\tLoss: 6.678144\n"
     ]
    },
    {
     "name": "stderr",
     "output_type": "stream",
     "text": [
      "\n"
     ]
    },
    {
     "name": "stdout",
     "output_type": "stream",
     "text": [
      "Val loss: 6.0402\n"
     ]
    },
    {
     "name": "stderr",
     "output_type": "stream",
     "text": [
      "100%|██████████| 445/445 [09:16<00:00,  1.25s/it]"
     ]
    },
    {
     "name": "stdout",
     "output_type": "stream",
     "text": [
      "Train Epoch: 13 \tLR: 0.100000\tLoss: 6.613383\n"
     ]
    },
    {
     "name": "stderr",
     "output_type": "stream",
     "text": [
      "\n"
     ]
    },
    {
     "name": "stdout",
     "output_type": "stream",
     "text": [
      "Val loss: 5.9973\n"
     ]
    },
    {
     "name": "stderr",
     "output_type": "stream",
     "text": [
      "100%|██████████| 445/445 [10:27<00:00,  1.41s/it]"
     ]
    },
    {
     "name": "stdout",
     "output_type": "stream",
     "text": [
      "Train Epoch: 14 \tLR: 0.100000\tLoss: 6.524183\n"
     ]
    },
    {
     "name": "stderr",
     "output_type": "stream",
     "text": [
      "\n"
     ]
    },
    {
     "name": "stdout",
     "output_type": "stream",
     "text": [
      "Val loss: 6.0492\n"
     ]
    },
    {
     "name": "stderr",
     "output_type": "stream",
     "text": [
      "100%|██████████| 445/445 [10:01<00:00,  1.35s/it]"
     ]
    },
    {
     "name": "stdout",
     "output_type": "stream",
     "text": [
      "Train Epoch: 15 \tLR: 0.100000\tLoss: 6.493692\n"
     ]
    },
    {
     "name": "stderr",
     "output_type": "stream",
     "text": [
      "\n"
     ]
    },
    {
     "name": "stdout",
     "output_type": "stream",
     "text": [
      "Val loss: 6.0172\n",
      "Epoch    16: reducing learning rate of group 0 to 1.0000e-02.\n"
     ]
    },
    {
     "name": "stderr",
     "output_type": "stream",
     "text": [
      "100%|██████████| 445/445 [09:27<00:00,  1.28s/it]"
     ]
    },
    {
     "name": "stdout",
     "output_type": "stream",
     "text": [
      "Train Epoch: 16 \tLR: 0.010000\tLoss: 6.132767\n"
     ]
    },
    {
     "name": "stderr",
     "output_type": "stream",
     "text": [
      "\n"
     ]
    },
    {
     "name": "stdout",
     "output_type": "stream",
     "text": [
      "Val loss: 5.6537\n"
     ]
    },
    {
     "name": "stderr",
     "output_type": "stream",
     "text": [
      "100%|██████████| 445/445 [09:28<00:00,  1.28s/it]"
     ]
    },
    {
     "name": "stdout",
     "output_type": "stream",
     "text": [
      "Train Epoch: 17 \tLR: 0.010000\tLoss: 6.032299\n"
     ]
    },
    {
     "name": "stderr",
     "output_type": "stream",
     "text": [
      "\n"
     ]
    },
    {
     "name": "stdout",
     "output_type": "stream",
     "text": [
      "Val loss: 5.6361\n"
     ]
    },
    {
     "name": "stderr",
     "output_type": "stream",
     "text": [
      "100%|██████████| 445/445 [09:33<00:00,  1.29s/it]"
     ]
    },
    {
     "name": "stdout",
     "output_type": "stream",
     "text": [
      "Train Epoch: 18 \tLR: 0.010000\tLoss: 6.026545\n"
     ]
    },
    {
     "name": "stderr",
     "output_type": "stream",
     "text": [
      "\n"
     ]
    },
    {
     "name": "stdout",
     "output_type": "stream",
     "text": [
      "Val loss: 5.6018\n"
     ]
    },
    {
     "name": "stderr",
     "output_type": "stream",
     "text": [
      "100%|██████████| 445/445 [09:29<00:00,  1.28s/it]"
     ]
    },
    {
     "name": "stdout",
     "output_type": "stream",
     "text": [
      "Train Epoch: 19 \tLR: 0.010000\tLoss: 5.980632\n"
     ]
    },
    {
     "name": "stderr",
     "output_type": "stream",
     "text": [
      "\n"
     ]
    },
    {
     "name": "stdout",
     "output_type": "stream",
     "text": [
      "Val loss: 5.5651\n"
     ]
    },
    {
     "name": "stderr",
     "output_type": "stream",
     "text": [
      "100%|██████████| 445/445 [09:29<00:00,  1.28s/it]"
     ]
    },
    {
     "name": "stdout",
     "output_type": "stream",
     "text": [
      "Train Epoch: 20 \tLR: 0.010000\tLoss: 5.947254\n"
     ]
    },
    {
     "name": "stderr",
     "output_type": "stream",
     "text": [
      "\n"
     ]
    },
    {
     "name": "stdout",
     "output_type": "stream",
     "text": [
      "Val loss: 5.5472\n"
     ]
    },
    {
     "name": "stderr",
     "output_type": "stream",
     "text": [
      "100%|██████████| 445/445 [09:26<00:00,  1.27s/it]"
     ]
    },
    {
     "name": "stdout",
     "output_type": "stream",
     "text": [
      "Train Epoch: 21 \tLR: 0.010000\tLoss: 5.924675\n"
     ]
    },
    {
     "name": "stderr",
     "output_type": "stream",
     "text": [
      "\n"
     ]
    },
    {
     "name": "stdout",
     "output_type": "stream",
     "text": [
      "Val loss: 5.5315\n"
     ]
    },
    {
     "name": "stderr",
     "output_type": "stream",
     "text": [
      "100%|██████████| 445/445 [09:24<00:00,  1.27s/it]"
     ]
    },
    {
     "name": "stdout",
     "output_type": "stream",
     "text": [
      "Train Epoch: 22 \tLR: 0.010000\tLoss: 5.896248\n"
     ]
    },
    {
     "name": "stderr",
     "output_type": "stream",
     "text": [
      "\n"
     ]
    },
    {
     "name": "stdout",
     "output_type": "stream",
     "text": [
      "Val loss: 5.5024\n"
     ]
    },
    {
     "name": "stderr",
     "output_type": "stream",
     "text": [
      "100%|██████████| 445/445 [09:26<00:00,  1.27s/it]"
     ]
    },
    {
     "name": "stdout",
     "output_type": "stream",
     "text": [
      "Train Epoch: 23 \tLR: 0.010000\tLoss: 5.847919\n"
     ]
    },
    {
     "name": "stderr",
     "output_type": "stream",
     "text": [
      "\n"
     ]
    },
    {
     "name": "stdout",
     "output_type": "stream",
     "text": [
      "Val loss: 5.5130\n"
     ]
    },
    {
     "name": "stderr",
     "output_type": "stream",
     "text": [
      "100%|██████████| 445/445 [09:30<00:00,  1.28s/it]"
     ]
    },
    {
     "name": "stdout",
     "output_type": "stream",
     "text": [
      "Train Epoch: 24 \tLR: 0.010000\tLoss: 5.915067\n"
     ]
    },
    {
     "name": "stderr",
     "output_type": "stream",
     "text": [
      "\n"
     ]
    },
    {
     "name": "stdout",
     "output_type": "stream",
     "text": [
      "Val loss: 5.4730\n"
     ]
    },
    {
     "name": "stderr",
     "output_type": "stream",
     "text": [
      "100%|██████████| 445/445 [09:29<00:00,  1.28s/it]"
     ]
    },
    {
     "name": "stdout",
     "output_type": "stream",
     "text": [
      "Train Epoch: 25 \tLR: 0.010000\tLoss: 5.816315\n"
     ]
    },
    {
     "name": "stderr",
     "output_type": "stream",
     "text": [
      "\n"
     ]
    },
    {
     "name": "stdout",
     "output_type": "stream",
     "text": [
      "Val loss: 5.4917\n"
     ]
    },
    {
     "name": "stderr",
     "output_type": "stream",
     "text": [
      "100%|██████████| 445/445 [09:30<00:00,  1.28s/it]"
     ]
    },
    {
     "name": "stdout",
     "output_type": "stream",
     "text": [
      "Train Epoch: 26 \tLR: 0.010000\tLoss: 5.800001\n"
     ]
    },
    {
     "name": "stderr",
     "output_type": "stream",
     "text": [
      "\n"
     ]
    },
    {
     "name": "stdout",
     "output_type": "stream",
     "text": [
      "Val loss: 5.4741\n",
      "Epoch    27: reducing learning rate of group 0 to 1.0000e-03.\n"
     ]
    },
    {
     "name": "stderr",
     "output_type": "stream",
     "text": [
      "100%|██████████| 445/445 [09:29<00:00,  1.28s/it]"
     ]
    },
    {
     "name": "stdout",
     "output_type": "stream",
     "text": [
      "Train Epoch: 27 \tLR: 0.001000\tLoss: 5.753996\n"
     ]
    },
    {
     "name": "stderr",
     "output_type": "stream",
     "text": [
      "\n"
     ]
    },
    {
     "name": "stdout",
     "output_type": "stream",
     "text": [
      "Val loss: 5.4629\n"
     ]
    },
    {
     "name": "stderr",
     "output_type": "stream",
     "text": [
      "100%|██████████| 445/445 [09:31<00:00,  1.28s/it]"
     ]
    },
    {
     "name": "stdout",
     "output_type": "stream",
     "text": [
      "Train Epoch: 28 \tLR: 0.001000\tLoss: 5.756733\n"
     ]
    },
    {
     "name": "stderr",
     "output_type": "stream",
     "text": [
      "\n"
     ]
    },
    {
     "name": "stdout",
     "output_type": "stream",
     "text": [
      "Val loss: 5.4507\n"
     ]
    },
    {
     "name": "stderr",
     "output_type": "stream",
     "text": [
      "100%|██████████| 445/445 [09:31<00:00,  1.28s/it]"
     ]
    },
    {
     "name": "stdout",
     "output_type": "stream",
     "text": [
      "Train Epoch: 29 \tLR: 0.001000\tLoss: 5.730113\n"
     ]
    },
    {
     "name": "stderr",
     "output_type": "stream",
     "text": [
      "\n"
     ]
    },
    {
     "name": "stdout",
     "output_type": "stream",
     "text": [
      "Val loss: 5.4412\n"
     ]
    },
    {
     "name": "stderr",
     "output_type": "stream",
     "text": [
      "100%|██████████| 445/445 [09:31<00:00,  1.28s/it]"
     ]
    },
    {
     "name": "stdout",
     "output_type": "stream",
     "text": [
      "Train Epoch: 30 \tLR: 0.001000\tLoss: 5.720052\n"
     ]
    },
    {
     "name": "stderr",
     "output_type": "stream",
     "text": [
      "\n"
     ]
    },
    {
     "name": "stdout",
     "output_type": "stream",
     "text": [
      "Val loss: 5.4476\n"
     ]
    },
    {
     "name": "stderr",
     "output_type": "stream",
     "text": [
      "100%|██████████| 445/445 [09:30<00:00,  1.28s/it]"
     ]
    },
    {
     "name": "stdout",
     "output_type": "stream",
     "text": [
      "Train Epoch: 31 \tLR: 0.001000\tLoss: 5.742278\n"
     ]
    },
    {
     "name": "stderr",
     "output_type": "stream",
     "text": [
      "\n"
     ]
    },
    {
     "name": "stdout",
     "output_type": "stream",
     "text": [
      "Val loss: 5.4382\n"
     ]
    },
    {
     "name": "stderr",
     "output_type": "stream",
     "text": [
      "100%|██████████| 445/445 [09:31<00:00,  1.28s/it]"
     ]
    },
    {
     "name": "stdout",
     "output_type": "stream",
     "text": [
      "Train Epoch: 32 \tLR: 0.001000\tLoss: 5.731576\n"
     ]
    },
    {
     "name": "stderr",
     "output_type": "stream",
     "text": [
      "\n"
     ]
    },
    {
     "name": "stdout",
     "output_type": "stream",
     "text": [
      "Val loss: 5.4378\n"
     ]
    },
    {
     "name": "stderr",
     "output_type": "stream",
     "text": [
      "100%|██████████| 445/445 [09:28<00:00,  1.28s/it]"
     ]
    },
    {
     "name": "stdout",
     "output_type": "stream",
     "text": [
      "Train Epoch: 33 \tLR: 0.001000\tLoss: 5.721322\n"
     ]
    },
    {
     "name": "stderr",
     "output_type": "stream",
     "text": [
      "\n"
     ]
    },
    {
     "name": "stdout",
     "output_type": "stream",
     "text": [
      "Val loss: 5.4369\n"
     ]
    },
    {
     "name": "stderr",
     "output_type": "stream",
     "text": [
      "100%|██████████| 445/445 [09:28<00:00,  1.28s/it]"
     ]
    },
    {
     "name": "stdout",
     "output_type": "stream",
     "text": [
      "Train Epoch: 34 \tLR: 0.001000\tLoss: 5.738112\n"
     ]
    },
    {
     "name": "stderr",
     "output_type": "stream",
     "text": [
      "\n"
     ]
    },
    {
     "name": "stdout",
     "output_type": "stream",
     "text": [
      "Val loss: 5.4365\n",
      "Base model parameters are UNFREEZED.\n"
     ]
    },
    {
     "name": "stderr",
     "output_type": "stream",
     "text": [
      "100%|██████████| 445/445 [16:49<00:00,  2.27s/it]"
     ]
    },
    {
     "name": "stdout",
     "output_type": "stream",
     "text": [
      "Train Epoch: 35 \tLR: 0.001000\tLoss: 6.130186\n"
     ]
    },
    {
     "name": "stderr",
     "output_type": "stream",
     "text": [
      "\n"
     ]
    },
    {
     "name": "stdout",
     "output_type": "stream",
     "text": [
      "Val loss: 5.7689\n",
      "Epoch    36: reducing learning rate of group 0 to 1.0000e-04.\n"
     ]
    },
    {
     "name": "stderr",
     "output_type": "stream",
     "text": [
      "100%|██████████| 445/445 [16:50<00:00,  2.27s/it]"
     ]
    },
    {
     "name": "stdout",
     "output_type": "stream",
     "text": [
      "Train Epoch: 36 \tLR: 0.000100\tLoss: 5.820702\n"
     ]
    },
    {
     "name": "stderr",
     "output_type": "stream",
     "text": [
      "\n"
     ]
    },
    {
     "name": "stdout",
     "output_type": "stream",
     "text": [
      "Val loss: 5.3859\n"
     ]
    },
    {
     "name": "stderr",
     "output_type": "stream",
     "text": [
      "100%|██████████| 445/445 [16:46<00:00,  2.26s/it]"
     ]
    },
    {
     "name": "stdout",
     "output_type": "stream",
     "text": [
      "Train Epoch: 37 \tLR: 0.000100\tLoss: 5.724500\n"
     ]
    },
    {
     "name": "stderr",
     "output_type": "stream",
     "text": [
      "\n"
     ]
    },
    {
     "name": "stdout",
     "output_type": "stream",
     "text": [
      "Val loss: 5.3444\n"
     ]
    },
    {
     "name": "stderr",
     "output_type": "stream",
     "text": [
      "100%|██████████| 445/445 [16:47<00:00,  2.26s/it]"
     ]
    },
    {
     "name": "stdout",
     "output_type": "stream",
     "text": [
      "Train Epoch: 38 \tLR: 0.000100\tLoss: 5.642127\n"
     ]
    },
    {
     "name": "stderr",
     "output_type": "stream",
     "text": [
      "\n"
     ]
    },
    {
     "name": "stdout",
     "output_type": "stream",
     "text": [
      "Val loss: 5.2673\n"
     ]
    },
    {
     "name": "stderr",
     "output_type": "stream",
     "text": [
      "100%|██████████| 445/445 [16:49<00:00,  2.27s/it]"
     ]
    },
    {
     "name": "stdout",
     "output_type": "stream",
     "text": [
      "Train Epoch: 39 \tLR: 0.000100\tLoss: 5.588252\n"
     ]
    },
    {
     "name": "stderr",
     "output_type": "stream",
     "text": [
      "\n"
     ]
    },
    {
     "name": "stdout",
     "output_type": "stream",
     "text": [
      "Val loss: 5.2502\n"
     ]
    },
    {
     "name": "stderr",
     "output_type": "stream",
     "text": [
      "100%|██████████| 445/445 [16:52<00:00,  2.27s/it]"
     ]
    },
    {
     "name": "stdout",
     "output_type": "stream",
     "text": [
      "Train Epoch: 40 \tLR: 0.000100\tLoss: 5.543706\n"
     ]
    },
    {
     "name": "stderr",
     "output_type": "stream",
     "text": [
      "\n"
     ]
    },
    {
     "name": "stdout",
     "output_type": "stream",
     "text": [
      "Val loss: 5.2426\n"
     ]
    },
    {
     "name": "stderr",
     "output_type": "stream",
     "text": [
      "100%|██████████| 445/445 [16:49<00:00,  2.27s/it]"
     ]
    },
    {
     "name": "stdout",
     "output_type": "stream",
     "text": [
      "Train Epoch: 41 \tLR: 0.000100\tLoss: 5.505436\n"
     ]
    },
    {
     "name": "stderr",
     "output_type": "stream",
     "text": [
      "\n"
     ]
    },
    {
     "name": "stdout",
     "output_type": "stream",
     "text": [
      "Val loss: 5.2615\n"
     ]
    },
    {
     "name": "stderr",
     "output_type": "stream",
     "text": [
      "100%|██████████| 445/445 [16:49<00:00,  2.27s/it]"
     ]
    },
    {
     "name": "stdout",
     "output_type": "stream",
     "text": [
      "Train Epoch: 42 \tLR: 0.000100\tLoss: 5.485123\n"
     ]
    },
    {
     "name": "stderr",
     "output_type": "stream",
     "text": [
      "\n"
     ]
    },
    {
     "name": "stdout",
     "output_type": "stream",
     "text": [
      "Val loss: 5.2412\n"
     ]
    },
    {
     "name": "stderr",
     "output_type": "stream",
     "text": [
      "100%|██████████| 445/445 [16:55<00:00,  2.28s/it]"
     ]
    },
    {
     "name": "stdout",
     "output_type": "stream",
     "text": [
      "Train Epoch: 43 \tLR: 0.000100\tLoss: 5.447570\n"
     ]
    },
    {
     "name": "stderr",
     "output_type": "stream",
     "text": [
      "\n"
     ]
    },
    {
     "name": "stdout",
     "output_type": "stream",
     "text": [
      "Val loss: 5.2424\n"
     ]
    },
    {
     "name": "stderr",
     "output_type": "stream",
     "text": [
      "100%|██████████| 445/445 [16:52<00:00,  2.28s/it]"
     ]
    },
    {
     "name": "stdout",
     "output_type": "stream",
     "text": [
      "Train Epoch: 44 \tLR: 0.000100\tLoss: 5.398481\n"
     ]
    },
    {
     "name": "stderr",
     "output_type": "stream",
     "text": [
      "\n"
     ]
    },
    {
     "name": "stdout",
     "output_type": "stream",
     "text": [
      "Val loss: 5.1632\n"
     ]
    },
    {
     "name": "stderr",
     "output_type": "stream",
     "text": [
      "100%|██████████| 445/445 [16:51<00:00,  2.27s/it]"
     ]
    },
    {
     "name": "stdout",
     "output_type": "stream",
     "text": [
      "Train Epoch: 45 \tLR: 0.000100\tLoss: 5.409877\n"
     ]
    },
    {
     "name": "stderr",
     "output_type": "stream",
     "text": [
      "\n"
     ]
    },
    {
     "name": "stdout",
     "output_type": "stream",
     "text": [
      "Val loss: 5.1413\n"
     ]
    },
    {
     "name": "stderr",
     "output_type": "stream",
     "text": [
      "100%|██████████| 445/445 [16:53<00:00,  2.28s/it]"
     ]
    },
    {
     "name": "stdout",
     "output_type": "stream",
     "text": [
      "Train Epoch: 46 \tLR: 0.000100\tLoss: 5.349324\n"
     ]
    },
    {
     "name": "stderr",
     "output_type": "stream",
     "text": [
      "\n"
     ]
    },
    {
     "name": "stdout",
     "output_type": "stream",
     "text": [
      "Val loss: 5.1195\n"
     ]
    },
    {
     "name": "stderr",
     "output_type": "stream",
     "text": [
      " 67%|██████▋   | 299/445 [11:32<05:38,  2.32s/it]"
     ]
    },
    {
     "ename": "KeyboardInterrupt",
     "evalue": "",
     "output_type": "error",
     "traceback": [
      "\u001b[0;31m---------------------------------------------------------------------------\u001b[0m",
      "\u001b[0;31mKeyboardInterrupt\u001b[0m                         Traceback (most recent call last)",
      "\u001b[0;32m<ipython-input-19-4c5f2e0add70>\u001b[0m in \u001b[0;36m<module>\u001b[0;34m\u001b[0m\n\u001b[1;32m     15\u001b[0m     \u001b[0mtorch\u001b[0m\u001b[0;34m.\u001b[0m\u001b[0mcuda\u001b[0m\u001b[0;34m.\u001b[0m\u001b[0mempty_cache\u001b[0m\u001b[0;34m(\u001b[0m\u001b[0;34m)\u001b[0m\u001b[0;34m\u001b[0m\u001b[0;34m\u001b[0m\u001b[0m\n\u001b[1;32m     16\u001b[0m     \u001b[0mgc\u001b[0m\u001b[0;34m.\u001b[0m\u001b[0mcollect\u001b[0m\u001b[0;34m(\u001b[0m\u001b[0;34m)\u001b[0m\u001b[0;34m\u001b[0m\u001b[0;34m\u001b[0m\u001b[0m\n\u001b[0;32m---> 17\u001b[0;31m     \u001b[0mtrain_model\u001b[0m\u001b[0;34m(\u001b[0m\u001b[0mepoch\u001b[0m\u001b[0;34m,\u001b[0m \u001b[0mhistory\u001b[0m\u001b[0;34m)\u001b[0m\u001b[0;34m\u001b[0m\u001b[0;34m\u001b[0m\u001b[0m\n\u001b[0m\u001b[1;32m     18\u001b[0m     \u001b[0mevaluate_model\u001b[0m\u001b[0;34m(\u001b[0m\u001b[0mepoch\u001b[0m\u001b[0;34m,\u001b[0m \u001b[0mhistory\u001b[0m\u001b[0;34m)\u001b[0m\u001b[0;34m\u001b[0m\u001b[0;34m\u001b[0m\u001b[0m\n\u001b[1;32m     19\u001b[0m     \u001b[0mtorch\u001b[0m\u001b[0;34m.\u001b[0m\u001b[0msave\u001b[0m\u001b[0;34m(\u001b[0m\u001b[0mmodel\u001b[0m\u001b[0;34m.\u001b[0m\u001b[0mstate_dict\u001b[0m\u001b[0;34m(\u001b[0m\u001b[0;34m)\u001b[0m\u001b[0;34m,\u001b[0m \u001b[0;34m'../models/model_'\u001b[0m \u001b[0;34m+\u001b[0m \u001b[0mstr\u001b[0m\u001b[0;34m(\u001b[0m\u001b[0mepoch\u001b[0m\u001b[0;34m)\u001b[0m \u001b[0;34m+\u001b[0m \u001b[0;34m'.pth'\u001b[0m\u001b[0;34m)\u001b[0m\u001b[0;34m\u001b[0m\u001b[0;34m\u001b[0m\u001b[0m\n",
      "\u001b[0;32m<ipython-input-18-b5396030be32>\u001b[0m in \u001b[0;36mtrain_model\u001b[0;34m(epoch, history)\u001b[0m\n\u001b[1;32m     19\u001b[0m             \u001b[0mcriterion\u001b[0m\u001b[0;34m(\u001b[0m\u001b[0moutput\u001b[0m\u001b[0;34m,\u001b[0m \u001b[0mmask_batch\u001b[0m\u001b[0;34m,\u001b[0m \u001b[0mregr_size_batch\u001b[0m\u001b[0;34m,\u001b[0m \u001b[0mregr_3D_batch\u001b[0m\u001b[0;34m)\u001b[0m\u001b[0;34m\u001b[0m\u001b[0;34m\u001b[0m\u001b[0m\n\u001b[1;32m     20\u001b[0m         \u001b[0mloss\u001b[0m \u001b[0;34m=\u001b[0m \u001b[0mmask_loss\u001b[0m \u001b[0;34m+\u001b[0m \u001b[0mregr_size_loss\u001b[0m \u001b[0;34m+\u001b[0m \u001b[0mregr_3D_loss\u001b[0m\u001b[0;34m\u001b[0m\u001b[0;34m\u001b[0m\u001b[0m\n\u001b[0;32m---> 21\u001b[0;31m         \u001b[0mloss\u001b[0m\u001b[0;34m.\u001b[0m\u001b[0mbackward\u001b[0m\u001b[0;34m(\u001b[0m\u001b[0;34m)\u001b[0m\u001b[0;34m\u001b[0m\u001b[0;34m\u001b[0m\u001b[0m\n\u001b[0m\u001b[1;32m     22\u001b[0m         \u001b[0moptimizer\u001b[0m\u001b[0;34m.\u001b[0m\u001b[0mstep\u001b[0m\u001b[0;34m(\u001b[0m\u001b[0;34m)\u001b[0m\u001b[0;34m\u001b[0m\u001b[0;34m\u001b[0m\u001b[0m\n\u001b[1;32m     23\u001b[0m \u001b[0;34m\u001b[0m\u001b[0m\n",
      "\u001b[0;32m~/.local/lib/python3.6/site-packages/torch/tensor.py\u001b[0m in \u001b[0;36mbackward\u001b[0;34m(self, gradient, retain_graph, create_graph)\u001b[0m\n\u001b[1;32m    196\u001b[0m                 \u001b[0mproducts\u001b[0m\u001b[0;34m.\u001b[0m \u001b[0mDefaults\u001b[0m \u001b[0mto\u001b[0m\u001b[0;31m \u001b[0m\u001b[0;31m`\u001b[0m\u001b[0;31m`\u001b[0m\u001b[0;32mFalse\u001b[0m\u001b[0;31m`\u001b[0m\u001b[0;31m`\u001b[0m\u001b[0;34m.\u001b[0m\u001b[0;34m\u001b[0m\u001b[0;34m\u001b[0m\u001b[0m\n\u001b[1;32m    197\u001b[0m         \"\"\"\n\u001b[0;32m--> 198\u001b[0;31m         \u001b[0mtorch\u001b[0m\u001b[0;34m.\u001b[0m\u001b[0mautograd\u001b[0m\u001b[0;34m.\u001b[0m\u001b[0mbackward\u001b[0m\u001b[0;34m(\u001b[0m\u001b[0mself\u001b[0m\u001b[0;34m,\u001b[0m \u001b[0mgradient\u001b[0m\u001b[0;34m,\u001b[0m \u001b[0mretain_graph\u001b[0m\u001b[0;34m,\u001b[0m \u001b[0mcreate_graph\u001b[0m\u001b[0;34m)\u001b[0m\u001b[0;34m\u001b[0m\u001b[0;34m\u001b[0m\u001b[0m\n\u001b[0m\u001b[1;32m    199\u001b[0m \u001b[0;34m\u001b[0m\u001b[0m\n\u001b[1;32m    200\u001b[0m     \u001b[0;32mdef\u001b[0m \u001b[0mregister_hook\u001b[0m\u001b[0;34m(\u001b[0m\u001b[0mself\u001b[0m\u001b[0;34m,\u001b[0m \u001b[0mhook\u001b[0m\u001b[0;34m)\u001b[0m\u001b[0;34m:\u001b[0m\u001b[0;34m\u001b[0m\u001b[0;34m\u001b[0m\u001b[0m\n",
      "\u001b[0;32m~/.local/lib/python3.6/site-packages/torch/autograd/__init__.py\u001b[0m in \u001b[0;36mbackward\u001b[0;34m(tensors, grad_tensors, retain_graph, create_graph, grad_variables)\u001b[0m\n\u001b[1;32m     98\u001b[0m     Variable._execution_engine.run_backward(\n\u001b[1;32m     99\u001b[0m         \u001b[0mtensors\u001b[0m\u001b[0;34m,\u001b[0m \u001b[0mgrad_tensors\u001b[0m\u001b[0;34m,\u001b[0m \u001b[0mretain_graph\u001b[0m\u001b[0;34m,\u001b[0m \u001b[0mcreate_graph\u001b[0m\u001b[0;34m,\u001b[0m\u001b[0;34m\u001b[0m\u001b[0;34m\u001b[0m\u001b[0m\n\u001b[0;32m--> 100\u001b[0;31m         allow_unreachable=True)  # allow_unreachable flag\n\u001b[0m\u001b[1;32m    101\u001b[0m \u001b[0;34m\u001b[0m\u001b[0m\n\u001b[1;32m    102\u001b[0m \u001b[0;34m\u001b[0m\u001b[0m\n",
      "\u001b[0;31mKeyboardInterrupt\u001b[0m: "
     ]
    }
   ],
   "source": [
    "import gc\n",
    "\n",
    "history = pd.DataFrame()\n",
    "\n",
    "for epoch in range(n_epochs):\n",
    "    if epoch == 0:\n",
    "        print(\"Base model parameters are FREEZED.\")\n",
    "        for param in model.base_model.parameters():\n",
    "            param.requires_grad = False\n",
    "    elif epoch == FINE_TUNE_EPOCH:\n",
    "        print(\"Base model parameters are UNFREEZED.\")\n",
    "        for param in model.base_model.parameters():\n",
    "            param.requires_grad = True\n",
    "            \n",
    "    torch.cuda.empty_cache()\n",
    "    gc.collect()\n",
    "    train_model(epoch, history)\n",
    "    evaluate_model(epoch, history)\n",
    "    torch.save(model.state_dict(), '../models/model_' + str(epoch) + '.pth')"
   ]
  },
  {
   "cell_type": "code",
   "execution_count": 20,
   "metadata": {},
   "outputs": [],
   "source": [
    "torch.save(model.state_dict(), '../models/model.pth')\n",
    "model_cpu = model.to('cpu')\n",
    "torch.save(model_cpu.state_dict(), '../models/model_cpu.pth')"
   ]
  },
  {
   "cell_type": "code",
   "execution_count": 21,
   "metadata": {},
   "outputs": [
    {
     "data": {
      "text/plain": [
       "<matplotlib.legend.Legend at 0x7fb8961a0a90>"
      ]
     },
     "execution_count": 21,
     "metadata": {},
     "output_type": "execute_result"
    },
    {
     "data": {
      "image/png": "[encoded data removed]",
      "text/plain": [
       "<Figure size 432x288 with 1 Axes>"
      ]
     },
     "metadata": {
      "needs_background": "light"
     },
     "output_type": "display_data"
    }
   ],
   "source": [
    "train_loss = history.dropna()['train_loss']\n",
    "val_loss = history.dropna()['val_loss']\n",
    "plt.scatter(train_loss.index[2:], train_loss[2:])\n",
    "plt.scatter(val_loss.index[2:], val_loss[2:])\n",
    "plt.legend([\"train_loss\", \"val_loss\"])"
   ]
  },
  {
   "cell_type": "code",
   "execution_count": 22,
   "metadata": {},
   "outputs": [
    {
     "data": {
      "text/plain": [
       "<matplotlib.legend.Legend at 0x7fb89612fb38>"
      ]
     },
     "execution_count": 22,
     "metadata": {},
     "output_type": "execute_result"
    },
    {
     "data": {
      "image/png": "[encoded data removed]",
      "text/plain": [
       "<Figure size 432x288 with 1 Axes>"
      ]
     },
     "metadata": {
      "needs_background": "light"
     },
     "output_type": "display_data"
    }
   ],
   "source": [
    "train_mask_loss = history.dropna()['train_mask_loss']\n",
    "train_regr_size_loss = history.dropna()['train_regr_size_loss']\n",
    "train_regr_3D_loss = history.dropna()['train_regr_3D_loss']\n",
    "plt.scatter(train_loss.index[2:], train_mask_loss[2:])\n",
    "plt.scatter(train_loss.index[2:], train_regr_size_loss[2:])\n",
    "plt.scatter(train_loss.index[2:], train_regr_3D_loss[2:])\n",
    "plt.legend([\"'train_mask_loss'\", \"train_regr_size_loss\", \"train_regr_3D_loss\"])"
   ]
  },
  {
   "cell_type": "code",
   "execution_count": 23,
   "metadata": {},
   "outputs": [
    {
     "data": {
      "text/plain": [
       "<matplotlib.legend.Legend at 0x7fb8960b07b8>"
      ]
     },
     "execution_count": 23,
     "metadata": {},
     "output_type": "execute_result"
    },
    {
     "data": {
      "image/png": "[encoded data removed]",
      "text/plain": [
       "<Figure size 432x288 with 1 Axes>"
      ]
     },
     "metadata": {
      "needs_background": "light"
     },
     "output_type": "display_data"
    }
   ],
   "source": [
    "val_mask_loss = history.dropna()['val_mask_loss']\n",
    "val_regr_size_loss = history.dropna()['val_regr_size_loss']\n",
    "val_regr_3D_loss = history.dropna()['val_regr_3D_loss']\n",
    "plt.scatter(val_loss.index[2:], val_mask_loss[2:])\n",
    "plt.scatter(val_loss.index[2:], val_regr_size_loss[2:])\n",
    "plt.scatter(val_loss.index[2:], val_regr_3D_loss[2:])\n",
    "plt.legend([\"'val_mask_loss'\", \"val_regr_size_loss\", \"val_regr_3D_loss\"])"
   ]
  },
  {
   "cell_type": "code",
   "execution_count": null,
   "metadata": {},
   "outputs": [],
   "source": [
    "torch.cuda.empty_cache()\n",
    "gc.collect()"
   ]
  },
  {
   "cell_type": "markdown",
   "metadata": {},
   "source": [
    "# Check result"
   ]
  },
  {
   "cell_type": "code",
   "execution_count": null,
   "metadata": {
    "tags": []
   },
   "outputs": [],
   "source": [
    "m = MyUNet(18)\n",
    "m.eval()\n",
    "m_state_dict = torch.load(\"../models/model.pth\")\n",
    "m.load_state_dict(m_state_dict)"
   ]
  },
  {
   "cell_type": "code",
   "execution_count": null,
   "metadata": {
    "scrolled": true
   },
   "outputs": [],
   "source": [
    "img, mask, regr, cnr, regr_cnr = val_dataset[0]\n",
    "img2 = np.rollaxis(img, 0, 3)\n",
    "plt.figure(figsize=(15,8))\n",
    "plt.imshow(img2*255)"
   ]
  },
  {
   "cell_type": "code",
   "execution_count": null,
   "metadata": {},
   "outputs": [],
   "source": [
    "output = m(torch.tensor(img[None]).to(device))\n",
    "logits = output[0,0].data.cpu().numpy()"
   ]
  },
  {
   "cell_type": "code",
   "execution_count": null,
   "metadata": {},
   "outputs": [],
   "source": [
    "plt.figure(figsize=(15,8))\n",
    "plt.title('Model predictions')\n",
    "plt.imshow(logits)\n",
    "plt.show()"
   ]
  },
  {
   "cell_type": "code",
   "execution_count": null,
   "metadata": {},
   "outputs": [],
   "source": [
    "output = m(torch.tensor(img[None]).to(device))\n",
    "logits = output[0,3].data.cpu().numpy()\n",
    "plt.figure(figsize=(15,8))\n",
    "plt.title('Model predictions')\n",
    "plt.imshow(logits)\n",
    "plt.show()"
   ]
  },
  {
   "cell_type": "code",
   "execution_count": null,
   "metadata": {},
   "outputs": [],
   "source": [
    "output = m(torch.tensor(img[None]).to(device))\n",
    "logits = output[0,4].data.cpu().numpy()\n",
    "plt.figure(figsize=(15,8))\n",
    "plt.title('Model predictions')\n",
    "plt.imshow(logits)\n",
    "plt.show()"
   ]
  },
  {
   "cell_type": "code",
   "execution_count": null,
   "metadata": {},
   "outputs": [],
   "source": []
  }
 ],
 "metadata": {
  "kernelspec": {
   "display_name": "Python 3",
   "language": "python",
   "name": "python3"
  },
  "language_info": {
   "codemirror_mode": {
    "name": "ipython",
    "version": 3
   },
   "file_extension": ".py",
   "mimetype": "text/x-python",
   "name": "python",
   "nbconvert_exporter": "python",
   "pygments_lexer": "ipython3",
   "version": "3.6.9"
  }
 },
 "nbformat": 4,
 "nbformat_minor": 4
}
